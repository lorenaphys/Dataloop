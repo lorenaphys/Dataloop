{
 "cells": [
  {
   "cell_type": "code",
   "execution_count": 1,
   "id": "a48b63d1",
   "metadata": {},
   "outputs": [],
   "source": [
    "import pandas as pd\n",
    "import matplotlib.pyplot as plt"
   ]
  },
  {
   "cell_type": "code",
   "execution_count": 2,
   "id": "8b59cae2",
   "metadata": {},
   "outputs": [],
   "source": [
    "my_face = pd.read_csv('../database/analytical_take_home_data_v3.csv')"
   ]
  },
  {
   "cell_type": "code",
   "execution_count": 13,
   "id": "4ddf4e18",
   "metadata": {},
   "outputs": [
    {
     "data": {
      "text/html": [
       "<div>\n",
       "<style scoped>\n",
       "    .dataframe tbody tr th:only-of-type {\n",
       "        vertical-align: middle;\n",
       "    }\n",
       "\n",
       "    .dataframe tbody tr th {\n",
       "        vertical-align: top;\n",
       "    }\n",
       "\n",
       "    .dataframe thead th {\n",
       "        text-align: right;\n",
       "    }\n",
       "</style>\n",
       "<table border=\"1\" class=\"dataframe\">\n",
       "  <thead>\n",
       "    <tr style=\"text-align: right;\">\n",
       "      <th></th>\n",
       "      <th>treatment</th>\n",
       "      <th>company_size</th>\n",
       "      <th>campaign_spend</th>\n",
       "      <th>campaign_budget</th>\n",
       "    </tr>\n",
       "  </thead>\n",
       "  <tbody>\n",
       "    <tr>\n",
       "      <th>0</th>\n",
       "      <td>False</td>\n",
       "      <td>small</td>\n",
       "      <td>10.4477</td>\n",
       "      <td>3.9035</td>\n",
       "    </tr>\n",
       "    <tr>\n",
       "      <th>1</th>\n",
       "      <td>False</td>\n",
       "      <td>medium</td>\n",
       "      <td>3.7776</td>\n",
       "      <td>1.9872</td>\n",
       "    </tr>\n",
       "    <tr>\n",
       "      <th>2</th>\n",
       "      <td>False</td>\n",
       "      <td>medium</td>\n",
       "      <td>46.1880</td>\n",
       "      <td>55.4523</td>\n",
       "    </tr>\n",
       "    <tr>\n",
       "      <th>3</th>\n",
       "      <td>False</td>\n",
       "      <td>small</td>\n",
       "      <td>6.6271</td>\n",
       "      <td>6.5136</td>\n",
       "    </tr>\n",
       "    <tr>\n",
       "      <th>4</th>\n",
       "      <td>False</td>\n",
       "      <td>small</td>\n",
       "      <td>92.3405</td>\n",
       "      <td>83.1018</td>\n",
       "    </tr>\n",
       "  </tbody>\n",
       "</table>\n",
       "</div>"
      ],
      "text/plain": [
       "   treatment company_size  campaign_spend  campaign_budget\n",
       "0      False        small         10.4477           3.9035\n",
       "1      False       medium          3.7776           1.9872\n",
       "2      False       medium         46.1880          55.4523\n",
       "3      False        small          6.6271           6.5136\n",
       "4      False        small         92.3405          83.1018"
      ]
     },
     "execution_count": 13,
     "metadata": {},
     "output_type": "execute_result"
    }
   ],
   "source": [
    "my_face.head()"
   ]
  },
  {
   "cell_type": "markdown",
   "id": "547f8687",
   "metadata": {},
   "source": [
    "1. How many campaigns have overspend of greater than 1% of their budget in the\n",
    "control group? In the treatment group?"
   ]
  },
  {
   "cell_type": "code",
   "execution_count": 49,
   "id": "c070c4e6",
   "metadata": {},
   "outputs": [],
   "source": [
    " control = my_face.query(\"treatment == False\")"
   ]
  },
  {
   "cell_type": "code",
   "execution_count": 31,
   "id": "461e5799",
   "metadata": {},
   "outputs": [],
   "source": [
    "treatment = my_face.query(\"treatment == True\").reset_index()"
   ]
  },
  {
   "cell_type": "code",
   "execution_count": 20,
   "id": "5fcf5043",
   "metadata": {},
   "outputs": [],
   "source": [
    "def overspending(data):\n",
    "    return sum(1 for i in range(data.shape[0]) \n",
    "        if data.campaign_spend[i] > data.campaign_budget[i]*1.01)"
   ]
  },
  {
   "cell_type": "code",
   "execution_count": 21,
   "id": "66cf0b2a",
   "metadata": {},
   "outputs": [
    {
     "data": {
      "text/plain": [
       "5716"
      ]
     },
     "execution_count": 21,
     "metadata": {},
     "output_type": "execute_result"
    }
   ],
   "source": [
    "overspending(control)"
   ]
  },
  {
   "cell_type": "code",
   "execution_count": 33,
   "id": "e6f18144",
   "metadata": {},
   "outputs": [
    {
     "data": {
      "text/plain": [
       "5180"
      ]
     },
     "execution_count": 33,
     "metadata": {},
     "output_type": "execute_result"
    }
   ],
   "source": [
    "overspending(treatment)"
   ]
  },
  {
   "cell_type": "markdown",
   "id": "24b911bf",
   "metadata": {},
   "source": [
    "2. Was the new product effective at reducing overspend, and was it more or less\n",
    "effective depending on the company size? Put together an analysis describing\n",
    "how the treatment affected overspend."
   ]
  },
  {
   "cell_type": "markdown",
   "id": "6e6454c4",
   "metadata": {},
   "source": [
    "With the treatment, 536 companies don't present overspending, now it's necessary look the differences between control and treatment groups according to the size of the companies."
   ]
  },
  {
   "cell_type": "markdown",
   "id": "85bdd1e4",
   "metadata": {},
   "source": [
    "I'm going to add a column, called **overspending**, with booleans as entries, where True indicates if a company has and overspend greater than 1% of its budget, and False if there is not such overspend."
   ]
  },
  {
   "cell_type": "code",
   "execution_count": 45,
   "id": "920a45fd",
   "metadata": {},
   "outputs": [],
   "source": [
    "def overspend_tag(data):\n",
    "    return [True if data.campaign_spend[i] > data.campaign_budget[i]*1.01 else False \n",
    "            for i in range(data.shape[0])]"
   ]
  },
  {
   "cell_type": "code",
   "execution_count": 53,
   "id": "90784bfc",
   "metadata": {},
   "outputs": [
    {
     "name": "stderr",
     "output_type": "stream",
     "text": [
      "/tmp/ipykernel_1049044/1103851632.py:1: SettingWithCopyWarning: \n",
      "A value is trying to be set on a copy of a slice from a DataFrame.\n",
      "Try using .loc[row_indexer,col_indexer] = value instead\n",
      "\n",
      "See the caveats in the documentation: https://pandas.pydata.org/pandas-docs/stable/user_guide/indexing.html#returning-a-view-versus-a-copy\n",
      "  control['overspending'] = pd.Series(overspend_tag(control))\n"
     ]
    }
   ],
   "source": [
    "control['overspending'] = overspend_tag(control))"
   ]
  },
  {
   "cell_type": "code",
   "execution_count": 54,
   "id": "37eab338",
   "metadata": {},
   "outputs": [
    {
     "data": {
      "text/html": [
       "<div>\n",
       "<style scoped>\n",
       "    .dataframe tbody tr th:only-of-type {\n",
       "        vertical-align: middle;\n",
       "    }\n",
       "\n",
       "    .dataframe tbody tr th {\n",
       "        vertical-align: top;\n",
       "    }\n",
       "\n",
       "    .dataframe thead th {\n",
       "        text-align: right;\n",
       "    }\n",
       "</style>\n",
       "<table border=\"1\" class=\"dataframe\">\n",
       "  <thead>\n",
       "    <tr style=\"text-align: right;\">\n",
       "      <th></th>\n",
       "      <th>treatment</th>\n",
       "      <th>company_size</th>\n",
       "      <th>campaign_spend</th>\n",
       "      <th>campaign_budget</th>\n",
       "      <th>overspending</th>\n",
       "    </tr>\n",
       "  </thead>\n",
       "  <tbody>\n",
       "    <tr>\n",
       "      <th>0</th>\n",
       "      <td>False</td>\n",
       "      <td>small</td>\n",
       "      <td>10.4477</td>\n",
       "      <td>3.9035</td>\n",
       "      <td>True</td>\n",
       "    </tr>\n",
       "    <tr>\n",
       "      <th>1</th>\n",
       "      <td>False</td>\n",
       "      <td>medium</td>\n",
       "      <td>3.7776</td>\n",
       "      <td>1.9872</td>\n",
       "      <td>True</td>\n",
       "    </tr>\n",
       "    <tr>\n",
       "      <th>2</th>\n",
       "      <td>False</td>\n",
       "      <td>medium</td>\n",
       "      <td>46.1880</td>\n",
       "      <td>55.4523</td>\n",
       "      <td>False</td>\n",
       "    </tr>\n",
       "    <tr>\n",
       "      <th>3</th>\n",
       "      <td>False</td>\n",
       "      <td>small</td>\n",
       "      <td>6.6271</td>\n",
       "      <td>6.5136</td>\n",
       "      <td>True</td>\n",
       "    </tr>\n",
       "    <tr>\n",
       "      <th>4</th>\n",
       "      <td>False</td>\n",
       "      <td>small</td>\n",
       "      <td>92.3405</td>\n",
       "      <td>83.1018</td>\n",
       "      <td>True</td>\n",
       "    </tr>\n",
       "    <tr>\n",
       "      <th>...</th>\n",
       "      <td>...</td>\n",
       "      <td>...</td>\n",
       "      <td>...</td>\n",
       "      <td>...</td>\n",
       "      <td>...</td>\n",
       "    </tr>\n",
       "    <tr>\n",
       "      <th>7728</th>\n",
       "      <td>False</td>\n",
       "      <td>large</td>\n",
       "      <td>93.6252</td>\n",
       "      <td>85.5513</td>\n",
       "      <td>True</td>\n",
       "    </tr>\n",
       "    <tr>\n",
       "      <th>7729</th>\n",
       "      <td>False</td>\n",
       "      <td>small</td>\n",
       "      <td>50.2789</td>\n",
       "      <td>49.9137</td>\n",
       "      <td>False</td>\n",
       "    </tr>\n",
       "    <tr>\n",
       "      <th>7730</th>\n",
       "      <td>False</td>\n",
       "      <td>small</td>\n",
       "      <td>12.1644</td>\n",
       "      <td>5.0362</td>\n",
       "      <td>True</td>\n",
       "    </tr>\n",
       "    <tr>\n",
       "      <th>7731</th>\n",
       "      <td>False</td>\n",
       "      <td>small</td>\n",
       "      <td>1663.3740</td>\n",
       "      <td>621.7328</td>\n",
       "      <td>True</td>\n",
       "    </tr>\n",
       "    <tr>\n",
       "      <th>7732</th>\n",
       "      <td>False</td>\n",
       "      <td>medium</td>\n",
       "      <td>103.4369</td>\n",
       "      <td>103.0482</td>\n",
       "      <td>False</td>\n",
       "    </tr>\n",
       "  </tbody>\n",
       "</table>\n",
       "<p>7733 rows × 5 columns</p>\n",
       "</div>"
      ],
      "text/plain": [
       "      treatment company_size  campaign_spend  campaign_budget  overspending\n",
       "0         False        small         10.4477           3.9035          True\n",
       "1         False       medium          3.7776           1.9872          True\n",
       "2         False       medium         46.1880          55.4523         False\n",
       "3         False        small          6.6271           6.5136          True\n",
       "4         False        small         92.3405          83.1018          True\n",
       "...         ...          ...             ...              ...           ...\n",
       "7728      False        large         93.6252          85.5513          True\n",
       "7729      False        small         50.2789          49.9137         False\n",
       "7730      False        small         12.1644           5.0362          True\n",
       "7731      False        small       1663.3740         621.7328          True\n",
       "7732      False       medium        103.4369         103.0482         False\n",
       "\n",
       "[7733 rows x 5 columns]"
      ]
     },
     "execution_count": 54,
     "metadata": {},
     "output_type": "execute_result"
    }
   ],
   "source": [
    "control"
   ]
  },
  {
   "cell_type": "code",
   "execution_count": null,
   "id": "c2803eee",
   "metadata": {},
   "outputs": [],
   "source": []
  }
 ],
 "metadata": {
  "kernelspec": {
   "display_name": "Python 3 (ipykernel)",
   "language": "python",
   "name": "python3"
  },
  "language_info": {
   "codemirror_mode": {
    "name": "ipython",
    "version": 3
   },
   "file_extension": ".py",
   "mimetype": "text/x-python",
   "name": "python",
   "nbconvert_exporter": "python",
   "pygments_lexer": "ipython3",
   "version": "3.9.12"
  }
 },
 "nbformat": 4,
 "nbformat_minor": 5
}
