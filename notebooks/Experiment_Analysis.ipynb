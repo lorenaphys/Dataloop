{
 "cells": [
  {
   "cell_type": "code",
   "execution_count": 119,
   "id": "2e1ec978",
   "metadata": {},
   "outputs": [],
   "source": [
    "import pandas as pd\n",
    "import numpy as np\n",
    "import matplotlib.pyplot as plt\n",
    "from scipy import stats"
   ]
  },
  {
   "cell_type": "code",
   "execution_count": 2,
   "id": "cd0176c2",
   "metadata": {},
   "outputs": [],
   "source": [
    "my_face = pd.read_csv('../database/analytical_take_home_data_v3.csv')"
   ]
  },
  {
   "cell_type": "code",
   "execution_count": 13,
   "id": "4ad6f9c9",
   "metadata": {},
   "outputs": [
    {
     "data": {
      "text/html": [
       "<div>\n",
       "<style scoped>\n",
       "    .dataframe tbody tr th:only-of-type {\n",
       "        vertical-align: middle;\n",
       "    }\n",
       "\n",
       "    .dataframe tbody tr th {\n",
       "        vertical-align: top;\n",
       "    }\n",
       "\n",
       "    .dataframe thead th {\n",
       "        text-align: right;\n",
       "    }\n",
       "</style>\n",
       "<table border=\"1\" class=\"dataframe\">\n",
       "  <thead>\n",
       "    <tr style=\"text-align: right;\">\n",
       "      <th></th>\n",
       "      <th>treatment</th>\n",
       "      <th>company_size</th>\n",
       "      <th>campaign_spend</th>\n",
       "      <th>campaign_budget</th>\n",
       "    </tr>\n",
       "  </thead>\n",
       "  <tbody>\n",
       "    <tr>\n",
       "      <th>0</th>\n",
       "      <td>False</td>\n",
       "      <td>small</td>\n",
       "      <td>10.4477</td>\n",
       "      <td>3.9035</td>\n",
       "    </tr>\n",
       "    <tr>\n",
       "      <th>1</th>\n",
       "      <td>False</td>\n",
       "      <td>medium</td>\n",
       "      <td>3.7776</td>\n",
       "      <td>1.9872</td>\n",
       "    </tr>\n",
       "    <tr>\n",
       "      <th>2</th>\n",
       "      <td>False</td>\n",
       "      <td>medium</td>\n",
       "      <td>46.1880</td>\n",
       "      <td>55.4523</td>\n",
       "    </tr>\n",
       "    <tr>\n",
       "      <th>3</th>\n",
       "      <td>False</td>\n",
       "      <td>small</td>\n",
       "      <td>6.6271</td>\n",
       "      <td>6.5136</td>\n",
       "    </tr>\n",
       "    <tr>\n",
       "      <th>4</th>\n",
       "      <td>False</td>\n",
       "      <td>small</td>\n",
       "      <td>92.3405</td>\n",
       "      <td>83.1018</td>\n",
       "    </tr>\n",
       "  </tbody>\n",
       "</table>\n",
       "</div>"
      ],
      "text/plain": [
       "   treatment company_size  campaign_spend  campaign_budget\n",
       "0      False        small         10.4477           3.9035\n",
       "1      False       medium          3.7776           1.9872\n",
       "2      False       medium         46.1880          55.4523\n",
       "3      False        small          6.6271           6.5136\n",
       "4      False        small         92.3405          83.1018"
      ]
     },
     "execution_count": 13,
     "metadata": {},
     "output_type": "execute_result"
    }
   ],
   "source": [
    "my_face.head()"
   ]
  },
  {
   "cell_type": "markdown",
   "id": "e6a6f1a8",
   "metadata": {},
   "source": [
    "1. How many campaigns have overspend of greater than 1% of their budget in the\n",
    "control group? In the treatment group?"
   ]
  },
  {
   "cell_type": "markdown",
   "id": "d43e31de",
   "metadata": {},
   "source": [
    "First, I will create a dataframe called **control** for the control group, and another dataframe called **treatment** for the new product."
   ]
  },
  {
   "cell_type": "code",
   "execution_count": 49,
   "id": "e5a04d19",
   "metadata": {},
   "outputs": [],
   "source": [
    " control = my_face.query(\"treatment == False\")"
   ]
  },
  {
   "cell_type": "code",
   "execution_count": 31,
   "id": "4f1f373c",
   "metadata": {},
   "outputs": [],
   "source": [
    "treatment = my_face.query(\"treatment == True\").reset_index()"
   ]
  },
  {
   "cell_type": "markdown",
   "id": "2c71f5e9",
   "metadata": {},
   "source": [
    "I'm going to add a column, called **overspending**, with booleans as entries, where True indicates if a company has and overspend greater than 1% of its budget, and False if there is not such overspend, this in order to count how many companies present overspending."
   ]
  },
  {
   "cell_type": "code",
   "execution_count": 20,
   "id": "5e3623b1",
   "metadata": {},
   "outputs": [],
   "source": [
    "def overspending(data):\n",
    "    return sum(1 for i in range(data.shape[0]) \n",
    "        if data.campaign_spend[i] > data.campaign_budget[i]*1.01)"
   ]
  },
  {
   "cell_type": "code",
   "execution_count": 45,
   "id": "1a6c0df8",
   "metadata": {},
   "outputs": [],
   "source": [
    "def overspend_tag(data):\n",
    "    return [True if data.campaign_spend[i] > data.campaign_budget[i]*1.01 else False \n",
    "            for i in range(data.shape[0])]"
   ]
  },
  {
   "cell_type": "code",
   "execution_count": 55,
   "id": "b9ccc745",
   "metadata": {
    "scrolled": true
   },
   "outputs": [
    {
     "name": "stderr",
     "output_type": "stream",
     "text": [
      "/tmp/ipykernel_1049044/1141644292.py:1: SettingWithCopyWarning: \n",
      "A value is trying to be set on a copy of a slice from a DataFrame.\n",
      "Try using .loc[row_indexer,col_indexer] = value instead\n",
      "\n",
      "See the caveats in the documentation: https://pandas.pydata.org/pandas-docs/stable/user_guide/indexing.html#returning-a-view-versus-a-copy\n",
      "  control['overspending'] = overspend_tag(control)\n"
     ]
    }
   ],
   "source": [
    "control['overspending'] = overspend_tag(control)"
   ]
  },
  {
   "cell_type": "code",
   "execution_count": 112,
   "id": "70e59e24",
   "metadata": {},
   "outputs": [
    {
     "data": {
      "text/html": [
       "<div>\n",
       "<style scoped>\n",
       "    .dataframe tbody tr th:only-of-type {\n",
       "        vertical-align: middle;\n",
       "    }\n",
       "\n",
       "    .dataframe tbody tr th {\n",
       "        vertical-align: top;\n",
       "    }\n",
       "\n",
       "    .dataframe thead th {\n",
       "        text-align: right;\n",
       "    }\n",
       "</style>\n",
       "<table border=\"1\" class=\"dataframe\">\n",
       "  <thead>\n",
       "    <tr style=\"text-align: right;\">\n",
       "      <th></th>\n",
       "      <th>treatment</th>\n",
       "      <th>company_size</th>\n",
       "      <th>campaign_spend</th>\n",
       "      <th>campaign_budget</th>\n",
       "      <th>overspending</th>\n",
       "    </tr>\n",
       "  </thead>\n",
       "  <tbody>\n",
       "    <tr>\n",
       "      <th>0</th>\n",
       "      <td>False</td>\n",
       "      <td>small</td>\n",
       "      <td>10.4477</td>\n",
       "      <td>3.9035</td>\n",
       "      <td>True</td>\n",
       "    </tr>\n",
       "    <tr>\n",
       "      <th>1</th>\n",
       "      <td>False</td>\n",
       "      <td>medium</td>\n",
       "      <td>3.7776</td>\n",
       "      <td>1.9872</td>\n",
       "      <td>True</td>\n",
       "    </tr>\n",
       "    <tr>\n",
       "      <th>2</th>\n",
       "      <td>False</td>\n",
       "      <td>medium</td>\n",
       "      <td>46.1880</td>\n",
       "      <td>55.4523</td>\n",
       "      <td>False</td>\n",
       "    </tr>\n",
       "    <tr>\n",
       "      <th>3</th>\n",
       "      <td>False</td>\n",
       "      <td>small</td>\n",
       "      <td>6.6271</td>\n",
       "      <td>6.5136</td>\n",
       "      <td>True</td>\n",
       "    </tr>\n",
       "    <tr>\n",
       "      <th>4</th>\n",
       "      <td>False</td>\n",
       "      <td>small</td>\n",
       "      <td>92.3405</td>\n",
       "      <td>83.1018</td>\n",
       "      <td>True</td>\n",
       "    </tr>\n",
       "    <tr>\n",
       "      <th>...</th>\n",
       "      <td>...</td>\n",
       "      <td>...</td>\n",
       "      <td>...</td>\n",
       "      <td>...</td>\n",
       "      <td>...</td>\n",
       "    </tr>\n",
       "    <tr>\n",
       "      <th>7728</th>\n",
       "      <td>False</td>\n",
       "      <td>large</td>\n",
       "      <td>93.6252</td>\n",
       "      <td>85.5513</td>\n",
       "      <td>True</td>\n",
       "    </tr>\n",
       "    <tr>\n",
       "      <th>7729</th>\n",
       "      <td>False</td>\n",
       "      <td>small</td>\n",
       "      <td>50.2789</td>\n",
       "      <td>49.9137</td>\n",
       "      <td>False</td>\n",
       "    </tr>\n",
       "    <tr>\n",
       "      <th>7730</th>\n",
       "      <td>False</td>\n",
       "      <td>small</td>\n",
       "      <td>12.1644</td>\n",
       "      <td>5.0362</td>\n",
       "      <td>True</td>\n",
       "    </tr>\n",
       "    <tr>\n",
       "      <th>7731</th>\n",
       "      <td>False</td>\n",
       "      <td>small</td>\n",
       "      <td>1663.3740</td>\n",
       "      <td>621.7328</td>\n",
       "      <td>True</td>\n",
       "    </tr>\n",
       "    <tr>\n",
       "      <th>7732</th>\n",
       "      <td>False</td>\n",
       "      <td>medium</td>\n",
       "      <td>103.4369</td>\n",
       "      <td>103.0482</td>\n",
       "      <td>False</td>\n",
       "    </tr>\n",
       "  </tbody>\n",
       "</table>\n",
       "<p>7733 rows × 5 columns</p>\n",
       "</div>"
      ],
      "text/plain": [
       "      treatment company_size  campaign_spend  campaign_budget  overspending\n",
       "0         False        small         10.4477           3.9035          True\n",
       "1         False       medium          3.7776           1.9872          True\n",
       "2         False       medium         46.1880          55.4523         False\n",
       "3         False        small          6.6271           6.5136          True\n",
       "4         False        small         92.3405          83.1018          True\n",
       "...         ...          ...             ...              ...           ...\n",
       "7728      False        large         93.6252          85.5513          True\n",
       "7729      False        small         50.2789          49.9137         False\n",
       "7730      False        small         12.1644           5.0362          True\n",
       "7731      False        small       1663.3740         621.7328          True\n",
       "7732      False       medium        103.4369         103.0482         False\n",
       "\n",
       "[7733 rows x 5 columns]"
      ]
     },
     "execution_count": 112,
     "metadata": {},
     "output_type": "execute_result"
    }
   ],
   "source": [
    "control"
   ]
  },
  {
   "cell_type": "code",
   "execution_count": 74,
   "id": "f2378da4",
   "metadata": {},
   "outputs": [],
   "source": [
    "treatment['overspending'] = overspend_tag(treatment)"
   ]
  },
  {
   "cell_type": "code",
   "execution_count": 86,
   "id": "bacd0ec6",
   "metadata": {},
   "outputs": [
    {
     "data": {
      "text/plain": [
       "5716"
      ]
     },
     "execution_count": 86,
     "metadata": {},
     "output_type": "execute_result"
    }
   ],
   "source": [
    "control.query('overspending == True').shape[0]"
   ]
  },
  {
   "cell_type": "code",
   "execution_count": 87,
   "id": "7052310f",
   "metadata": {},
   "outputs": [
    {
     "data": {
      "text/plain": [
       "5180"
      ]
     },
     "execution_count": 87,
     "metadata": {},
     "output_type": "execute_result"
    }
   ],
   "source": [
    "treatment.query('overspending == True').shape[0]"
   ]
  },
  {
   "cell_type": "markdown",
   "id": "117a0f1c",
   "metadata": {},
   "source": [
    "As we can see, with the old producto there are 5716 companies withe overspending, meanwhile with the new product there are 5180 companies, which make a difference of 536 companies."
   ]
  },
  {
   "cell_type": "markdown",
   "id": "bb3c3105",
   "metadata": {},
   "source": [
    "2. Was the new product effective at reducing overspend, and was it more or less\n",
    "effective depending on the company size? Put together an analysis describing\n",
    "how the treatment affected overspend."
   ]
  },
  {
   "cell_type": "markdown",
   "id": "43c446b4",
   "metadata": {},
   "source": [
    "With the treatment, 536 companies don't present overspending, now it's necessary look the differences between control and treatment groups according to the size of the companies."
   ]
  },
  {
   "cell_type": "code",
   "execution_count": 71,
   "id": "eaa34be9",
   "metadata": {},
   "outputs": [],
   "source": [
    "def overspending_by_size(data):\n",
    "    sizes = ['small', 'medium', 'large'] \n",
    "    return {s:\n",
    "            control[np.logical_and(data.company_size == s,\n",
    "                                   data.overspending == True)].shape[0] \n",
    "            for s in sizes}"
   ]
  },
  {
   "cell_type": "code",
   "execution_count": 89,
   "id": "560d79b5",
   "metadata": {},
   "outputs": [],
   "source": [
    "control_by_size = overspending_by_size(control)"
   ]
  },
  {
   "cell_type": "code",
   "execution_count": 113,
   "id": "9c1a7fec",
   "metadata": {},
   "outputs": [
    {
     "data": {
      "text/plain": [
       "{'small': 3389, 'medium': 452, 'large': 1875}"
      ]
     },
     "execution_count": 113,
     "metadata": {},
     "output_type": "execute_result"
    }
   ],
   "source": [
    "control_by_size"
   ]
  },
  {
   "cell_type": "code",
   "execution_count": 90,
   "id": "b2277870",
   "metadata": {},
   "outputs": [
    {
     "name": "stderr",
     "output_type": "stream",
     "text": [
      "/tmp/ipykernel_1049044/271622678.py:4: UserWarning: Boolean Series key will be reindexed to match DataFrame index.\n",
      "  control[np.logical_and(data.company_size == s,\n"
     ]
    }
   ],
   "source": [
    "treatment_by_size = overspending_by_size(treatment)"
   ]
  },
  {
   "cell_type": "markdown",
   "id": "8ccb103b",
   "metadata": {},
   "source": [
    "## Pie chart control group "
   ]
  },
  {
   "cell_type": "code",
   "execution_count": 98,
   "id": "8df19cb9",
   "metadata": {},
   "outputs": [
    {
     "data": {
      "image/png": "[encoded data removed]",
      "text/plain": [
       "<Figure size 432x288 with 1 Axes>"
      ]
     },
     "metadata": {},
     "output_type": "display_data"
    }
   ],
   "source": [
    "plt.pie(list(control_by_size.values()), \n",
    "        labels = list(control_by_size.keys()),\n",
    "        autopct='%1.2f%%'\n",
    "       )\n",
    "plt.show() "
   ]
  },
  {
   "cell_type": "markdown",
   "id": "b6570445",
   "metadata": {},
   "source": [
    "## Pie chart treatment group"
   ]
  },
  {
   "cell_type": "code",
   "execution_count": 99,
   "id": "b9ce1f7d",
   "metadata": {},
   "outputs": [
    {
     "data": {
      "image/png": "[encoded data removed]",
      "text/plain": [
       "<Figure size 432x288 with 1 Axes>"
      ]
     },
     "metadata": {},
     "output_type": "display_data"
    }
   ],
   "source": [
    "plt.pie(list(treatment_by_size.values()), \n",
    "        labels = list(treatment_by_size.keys()),\n",
    "        autopct='%1.2f%%'\n",
    "       )\n",
    "plt.show()"
   ]
  },
  {
   "cell_type": "markdown",
   "id": "a411346c",
   "metadata": {},
   "source": [
    "We can see that with the new product, the distribution of overspending remains, but the percentage of small companies increased, and the large companies percentage decreased. So, to figure out more about what happend with the new product, let's calculate the difference with the control and treatment group according with the company size."
   ]
  },
  {
   "cell_type": "code",
   "execution_count": null,
   "id": "6231f31e",
   "metadata": {},
   "outputs": [],
   "source": [
    "def diff_pct(control, treatment):\n",
    "    sizes = ['small', 'medium', 'large']\n",
    "    return {s:\n",
    "            100*(control[s] - treatment[s])/control[s] for s in sizes}"
   ]
  },
  {
   "cell_type": "code",
   "execution_count": 111,
   "id": "3f943af7",
   "metadata": {},
   "outputs": [
    {
     "data": {
      "text/plain": [
       "{'small': 3.8654470345234584, 'medium': 8.4070796460177, 'large': 19.84}"
      ]
     },
     "execution_count": 111,
     "metadata": {},
     "output_type": "execute_result"
    }
   ],
   "source": [
    "diff_pct(control_by_size, treatment_by_size)"
   ]
  },
  {
   "cell_type": "markdown",
   "id": "25b7aa45",
   "metadata": {},
   "source": [
    "The differences in percentage are the following: the small companies reduced overspending by almost 3.87%, the medium companies reduced by almost 8.41% and for the large companies, the reduction was 19.84%."
   ]
  },
  {
   "cell_type": "markdown",
   "id": "2a0ba0e4",
   "metadata": {},
   "source": [
    "With this test we can conclude that there is a reduction of overspending on the three groups of companies, but the reduction is greater for large companies."
   ]
  },
  {
   "cell_type": "markdown",
   "id": "96fd40e4",
   "metadata": {},
   "source": [
    "3. A product manager on the team is concerned that certain advertisers in the\n",
    "treatment group are entering lower budgets because they are wary of the new product. Provide some evidence to support their suspicions, or show that any\n",
    "differences in budgets are likely due to random fluctuations."
   ]
  },
  {
   "cell_type": "markdown",
   "id": "42b355a6",
   "metadata": {},
   "source": [
    "For this case the best option is to aply a **two sample Student's t-test**, which is a hypothesis test for the difference between two means of two different samples."
   ]
  },
  {
   "cell_type": "markdown",
   "id": "8047fbb0",
   "metadata": {},
   "source": [
    "For this test, the null hypothesis and the alternate hypothesis are the following:"
   ]
  },
  {
   "cell_type": "markdown",
   "id": "7f4fa48d",
   "metadata": {},
   "source": [
    "$H_0$: $\\mu_1 = \\mu_2$ vs $H_a$: $\\mu_1 \\neq \\mu_2$."
   ]
  },
  {
   "cell_type": "markdown",
   "id": "2cfa2b3a",
   "metadata": {},
   "source": [
    "Let's apply the test over the **overspending** column of the two groups:"
   ]
  },
  {
   "cell_type": "code",
   "execution_count": 116,
   "id": "ef5b870f",
   "metadata": {},
   "outputs": [],
   "source": [
    "sample1 = control['overspending'].astype(int)"
   ]
  },
  {
   "cell_type": "code",
   "execution_count": 117,
   "id": "37e5c09c",
   "metadata": {},
   "outputs": [],
   "source": [
    "sample2 = treatment['overspending'].astype(int)"
   ]
  },
  {
   "cell_type": "code",
   "execution_count": 120,
   "id": "b57ac58a",
   "metadata": {
    "scrolled": true
   },
   "outputs": [
    {
     "data": {
      "text/plain": [
       "Ttest_indResult(statistic=9.567268819264317, pvalue=1.2598213526026748e-21)"
      ]
     },
     "execution_count": 120,
     "metadata": {},
     "output_type": "execute_result"
    }
   ],
   "source": [
    "stats.ttest_ind(sample1, sample2)"
   ]
  },
  {
   "cell_type": "markdown",
   "id": "e7be30c2",
   "metadata": {},
   "source": [
    "As $p<0.05$, the null hypothesis is rejected, so the means of the two samples are statistically differents. In conclusion, the results are not due to random fluctuations."
   ]
  },
  {
   "cell_type": "code",
   "execution_count": null,
   "id": "3f5f7f42",
   "metadata": {},
   "outputs": [],
   "source": []
  }
 ],
 "metadata": {
  "kernelspec": {
   "display_name": "Python 3 (ipykernel)",
   "language": "python",
   "name": "python3"
  },
  "language_info": {
   "codemirror_mode": {
    "name": "ipython",
    "version": 3
   },
   "file_extension": ".py",
   "mimetype": "text/x-python",
   "name": "python",
   "nbconvert_exporter": "python",
   "pygments_lexer": "ipython3",
   "version": "3.9.12"
  }
 },
 "nbformat": 4,
 "nbformat_minor": 5
}
