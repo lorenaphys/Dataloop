{
 "cells": [
  {
   "cell_type": "code",
   "execution_count": 59,
   "id": "4f6f49c3",
   "metadata": {},
   "outputs": [],
   "source": [
    "import pandas as pd\n",
    "import numpy as np\n",
    "import matplotlib.pyplot as plt"
   ]
  },
  {
   "cell_type": "code",
   "execution_count": 2,
   "id": "e36fd6bb",
   "metadata": {},
   "outputs": [],
   "source": [
    "my_face = pd.read_csv('../database/analytical_take_home_data_v3.csv')"
   ]
  },
  {
   "cell_type": "code",
   "execution_count": 13,
   "id": "22d453d2",
   "metadata": {},
   "outputs": [
    {
     "data": {
      "text/html": [
       "<div>\n",
       "<style scoped>\n",
       "    .dataframe tbody tr th:only-of-type {\n",
       "        vertical-align: middle;\n",
       "    }\n",
       "\n",
       "    .dataframe tbody tr th {\n",
       "        vertical-align: top;\n",
       "    }\n",
       "\n",
       "    .dataframe thead th {\n",
       "        text-align: right;\n",
       "    }\n",
       "</style>\n",
       "<table border=\"1\" class=\"dataframe\">\n",
       "  <thead>\n",
       "    <tr style=\"text-align: right;\">\n",
       "      <th></th>\n",
       "      <th>treatment</th>\n",
       "      <th>company_size</th>\n",
       "      <th>campaign_spend</th>\n",
       "      <th>campaign_budget</th>\n",
       "    </tr>\n",
       "  </thead>\n",
       "  <tbody>\n",
       "    <tr>\n",
       "      <th>0</th>\n",
       "      <td>False</td>\n",
       "      <td>small</td>\n",
       "      <td>10.4477</td>\n",
       "      <td>3.9035</td>\n",
       "    </tr>\n",
       "    <tr>\n",
       "      <th>1</th>\n",
       "      <td>False</td>\n",
       "      <td>medium</td>\n",
       "      <td>3.7776</td>\n",
       "      <td>1.9872</td>\n",
       "    </tr>\n",
       "    <tr>\n",
       "      <th>2</th>\n",
       "      <td>False</td>\n",
       "      <td>medium</td>\n",
       "      <td>46.1880</td>\n",
       "      <td>55.4523</td>\n",
       "    </tr>\n",
       "    <tr>\n",
       "      <th>3</th>\n",
       "      <td>False</td>\n",
       "      <td>small</td>\n",
       "      <td>6.6271</td>\n",
       "      <td>6.5136</td>\n",
       "    </tr>\n",
       "    <tr>\n",
       "      <th>4</th>\n",
       "      <td>False</td>\n",
       "      <td>small</td>\n",
       "      <td>92.3405</td>\n",
       "      <td>83.1018</td>\n",
       "    </tr>\n",
       "  </tbody>\n",
       "</table>\n",
       "</div>"
      ],
      "text/plain": [
       "   treatment company_size  campaign_spend  campaign_budget\n",
       "0      False        small         10.4477           3.9035\n",
       "1      False       medium          3.7776           1.9872\n",
       "2      False       medium         46.1880          55.4523\n",
       "3      False        small          6.6271           6.5136\n",
       "4      False        small         92.3405          83.1018"
      ]
     },
     "execution_count": 13,
     "metadata": {},
     "output_type": "execute_result"
    }
   ],
   "source": [
    "my_face.head()"
   ]
  },
  {
   "cell_type": "markdown",
   "id": "fdea4907",
   "metadata": {},
   "source": [
    "1. How many campaigns have overspend of greater than 1% of their budget in the\n",
    "control group? In the treatment group?"
   ]
  },
  {
   "cell_type": "markdown",
   "id": "9bdfeb65",
   "metadata": {},
   "source": [
    "First, I will create a dataframe called **control** for the control group, and another dataframe called **treatment** for the new product."
   ]
  },
  {
   "cell_type": "code",
   "execution_count": 49,
   "id": "701fb7ae",
   "metadata": {},
   "outputs": [],
   "source": [
    " control = my_face.query(\"treatment == False\")"
   ]
  },
  {
   "cell_type": "code",
   "execution_count": 31,
   "id": "adc7e51f",
   "metadata": {},
   "outputs": [],
   "source": [
    "treatment = my_face.query(\"treatment == True\").reset_index()"
   ]
  },
  {
   "cell_type": "markdown",
   "id": "563a1033",
   "metadata": {},
   "source": [
    "I'm going to add a column, called **overspending**, with booleans as entries, where True indicates if a company has and overspend greater than 1% of its budget, and False if there is not such overspend, this in order to count how many companies present overspending."
   ]
  },
  {
   "cell_type": "code",
   "execution_count": 20,
   "id": "07a7f04e",
   "metadata": {},
   "outputs": [],
   "source": [
    "def overspending(data):\n",
    "    return sum(1 for i in range(data.shape[0]) \n",
    "        if data.campaign_spend[i] > data.campaign_budget[i]*1.01)"
   ]
  },
  {
   "cell_type": "code",
   "execution_count": 45,
   "id": "a073d2e1",
   "metadata": {},
   "outputs": [],
   "source": [
    "def overspend_tag(data):\n",
    "    return [True if data.campaign_spend[i] > data.campaign_budget[i]*1.01 else False \n",
    "            for i in range(data.shape[0])]"
   ]
  },
  {
   "cell_type": "code",
   "execution_count": 55,
   "id": "75f91fdf",
   "metadata": {
    "scrolled": false
   },
   "outputs": [
    {
     "name": "stderr",
     "output_type": "stream",
     "text": [
      "/tmp/ipykernel_1049044/1141644292.py:1: SettingWithCopyWarning: \n",
      "A value is trying to be set on a copy of a slice from a DataFrame.\n",
      "Try using .loc[row_indexer,col_indexer] = value instead\n",
      "\n",
      "See the caveats in the documentation: https://pandas.pydata.org/pandas-docs/stable/user_guide/indexing.html#returning-a-view-versus-a-copy\n",
      "  control['overspending'] = overspend_tag(control)\n"
     ]
    }
   ],
   "source": [
    "control['overspending'] = overspend_tag(control)"
   ]
  },
  {
   "cell_type": "code",
   "execution_count": 74,
   "id": "c23c23c5",
   "metadata": {},
   "outputs": [],
   "source": [
    "treatment['overspending'] = overspend_tag(treatment)"
   ]
  },
  {
   "cell_type": "code",
   "execution_count": 86,
   "id": "179c40e2",
   "metadata": {},
   "outputs": [
    {
     "data": {
      "text/plain": [
       "5716"
      ]
     },
     "execution_count": 86,
     "metadata": {},
     "output_type": "execute_result"
    }
   ],
   "source": [
    "control.query('overspending == True').shape[0]"
   ]
  },
  {
   "cell_type": "code",
   "execution_count": 87,
   "id": "ae4f1af2",
   "metadata": {},
   "outputs": [
    {
     "data": {
      "text/plain": [
       "5180"
      ]
     },
     "execution_count": 87,
     "metadata": {},
     "output_type": "execute_result"
    }
   ],
   "source": [
    "treatment.query('overspending == True').shape[0]"
   ]
  },
  {
   "cell_type": "markdown",
   "id": "88dc0bb6",
   "metadata": {},
   "source": [
    "As we can see, with the old producto there are 5716 companies withe overspending, meanwhile with the new product there are 5180 companies, which make a difference of 536 companies."
   ]
  },
  {
   "cell_type": "markdown",
   "id": "fced6a21",
   "metadata": {},
   "source": [
    "2. Was the new product effective at reducing overspend, and was it more or less\n",
    "effective depending on the company size? Put together an analysis describing\n",
    "how the treatment affected overspend."
   ]
  },
  {
   "cell_type": "markdown",
   "id": "44413ecf",
   "metadata": {},
   "source": [
    "With the treatment, 536 companies don't present overspending, now it's necessary look the differences between control and treatment groups according to the size of the companies."
   ]
  },
  {
   "cell_type": "code",
   "execution_count": 71,
   "id": "c97e4148",
   "metadata": {},
   "outputs": [],
   "source": [
    "def overspending_by_size(data):\n",
    "    sizes = ['small', 'medium', 'large'] \n",
    "    return {s:\n",
    "            control[np.logical_and(data.company_size == s,\n",
    "                                   data.overspending == True)].shape[0] \n",
    "            for s in sizes}"
   ]
  },
  {
   "cell_type": "code",
   "execution_count": 89,
   "id": "e15b8c81",
   "metadata": {},
   "outputs": [],
   "source": [
    "control_by_size = overspending_by_size(control)"
   ]
  },
  {
   "cell_type": "code",
   "execution_count": 90,
   "id": "04d0b7db",
   "metadata": {},
   "outputs": [
    {
     "name": "stderr",
     "output_type": "stream",
     "text": [
      "/tmp/ipykernel_1049044/271622678.py:4: UserWarning: Boolean Series key will be reindexed to match DataFrame index.\n",
      "  control[np.logical_and(data.company_size == s,\n"
     ]
    }
   ],
   "source": [
    "treatment_by_size = overspending_by_size(treatment)"
   ]
  },
  {
   "cell_type": "code",
   "execution_count": null,
   "id": "922f3c4e",
   "metadata": {},
   "outputs": [],
   "source": []
  }
 ],
 "metadata": {
  "kernelspec": {
   "display_name": "Python 3 (ipykernel)",
   "language": "python",
   "name": "python3"
  },
  "language_info": {
   "codemirror_mode": {
    "name": "ipython",
    "version": 3
   },
   "file_extension": ".py",
   "mimetype": "text/x-python",
   "name": "python",
   "nbconvert_exporter": "python",
   "pygments_lexer": "ipython3",
   "version": "3.9.12"
  }
 },
 "nbformat": 4,
 "nbformat_minor": 5
}
