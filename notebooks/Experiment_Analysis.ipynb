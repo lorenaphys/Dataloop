{
 "cells": [
  {
   "cell_type": "code",
   "execution_count": 59,
   "id": "edc1cd4b",
   "metadata": {},
   "outputs": [],
   "source": [
    "import pandas as pd\n",
    "import numpy as np\n",
    "import matplotlib.pyplot as plt"
   ]
  },
  {
   "cell_type": "code",
   "execution_count": 2,
   "id": "0719d9a8",
   "metadata": {},
   "outputs": [],
   "source": [
    "my_face = pd.read_csv('../database/analytical_take_home_data_v3.csv')"
   ]
  },
  {
   "cell_type": "code",
   "execution_count": 13,
   "id": "53f035e8",
   "metadata": {},
   "outputs": [
    {
     "data": {
      "text/html": [
       "<div>\n",
       "<style scoped>\n",
       "    .dataframe tbody tr th:only-of-type {\n",
       "        vertical-align: middle;\n",
       "    }\n",
       "\n",
       "    .dataframe tbody tr th {\n",
       "        vertical-align: top;\n",
       "    }\n",
       "\n",
       "    .dataframe thead th {\n",
       "        text-align: right;\n",
       "    }\n",
       "</style>\n",
       "<table border=\"1\" class=\"dataframe\">\n",
       "  <thead>\n",
       "    <tr style=\"text-align: right;\">\n",
       "      <th></th>\n",
       "      <th>treatment</th>\n",
       "      <th>company_size</th>\n",
       "      <th>campaign_spend</th>\n",
       "      <th>campaign_budget</th>\n",
       "    </tr>\n",
       "  </thead>\n",
       "  <tbody>\n",
       "    <tr>\n",
       "      <th>0</th>\n",
       "      <td>False</td>\n",
       "      <td>small</td>\n",
       "      <td>10.4477</td>\n",
       "      <td>3.9035</td>\n",
       "    </tr>\n",
       "    <tr>\n",
       "      <th>1</th>\n",
       "      <td>False</td>\n",
       "      <td>medium</td>\n",
       "      <td>3.7776</td>\n",
       "      <td>1.9872</td>\n",
       "    </tr>\n",
       "    <tr>\n",
       "      <th>2</th>\n",
       "      <td>False</td>\n",
       "      <td>medium</td>\n",
       "      <td>46.1880</td>\n",
       "      <td>55.4523</td>\n",
       "    </tr>\n",
       "    <tr>\n",
       "      <th>3</th>\n",
       "      <td>False</td>\n",
       "      <td>small</td>\n",
       "      <td>6.6271</td>\n",
       "      <td>6.5136</td>\n",
       "    </tr>\n",
       "    <tr>\n",
       "      <th>4</th>\n",
       "      <td>False</td>\n",
       "      <td>small</td>\n",
       "      <td>92.3405</td>\n",
       "      <td>83.1018</td>\n",
       "    </tr>\n",
       "  </tbody>\n",
       "</table>\n",
       "</div>"
      ],
      "text/plain": [
       "   treatment company_size  campaign_spend  campaign_budget\n",
       "0      False        small         10.4477           3.9035\n",
       "1      False       medium          3.7776           1.9872\n",
       "2      False       medium         46.1880          55.4523\n",
       "3      False        small          6.6271           6.5136\n",
       "4      False        small         92.3405          83.1018"
      ]
     },
     "execution_count": 13,
     "metadata": {},
     "output_type": "execute_result"
    }
   ],
   "source": [
    "my_face.head()"
   ]
  },
  {
   "cell_type": "markdown",
   "id": "c8ca3084",
   "metadata": {},
   "source": [
    "1. How many campaigns have overspend of greater than 1% of their budget in the\n",
    "control group? In the treatment group?"
   ]
  },
  {
   "cell_type": "code",
   "execution_count": 49,
   "id": "d7aa35e9",
   "metadata": {},
   "outputs": [],
   "source": [
    " control = my_face.query(\"treatment == False\")"
   ]
  },
  {
   "cell_type": "code",
   "execution_count": 31,
   "id": "8fe350bb",
   "metadata": {},
   "outputs": [],
   "source": [
    "treatment = my_face.query(\"treatment == True\").reset_index()"
   ]
  },
  {
   "cell_type": "code",
   "execution_count": 20,
   "id": "4bf7a68b",
   "metadata": {},
   "outputs": [],
   "source": [
    "def overspending(data):\n",
    "    return sum(1 for i in range(data.shape[0]) \n",
    "        if data.campaign_spend[i] > data.campaign_budget[i]*1.01)"
   ]
  },
  {
   "cell_type": "code",
   "execution_count": 21,
   "id": "1e09fcdc",
   "metadata": {},
   "outputs": [
    {
     "data": {
      "text/plain": [
       "5716"
      ]
     },
     "execution_count": 21,
     "metadata": {},
     "output_type": "execute_result"
    }
   ],
   "source": [
    "overspending(control)"
   ]
  },
  {
   "cell_type": "code",
   "execution_count": 33,
   "id": "8270d8af",
   "metadata": {},
   "outputs": [
    {
     "data": {
      "text/plain": [
       "5180"
      ]
     },
     "execution_count": 33,
     "metadata": {},
     "output_type": "execute_result"
    }
   ],
   "source": [
    "overspending(treatment)"
   ]
  },
  {
   "cell_type": "markdown",
   "id": "6d30392e",
   "metadata": {},
   "source": [
    "2. Was the new product effective at reducing overspend, and was it more or less\n",
    "effective depending on the company size? Put together an analysis describing\n",
    "how the treatment affected overspend."
   ]
  },
  {
   "cell_type": "markdown",
   "id": "292c6894",
   "metadata": {},
   "source": [
    "With the treatment, 536 companies don't present overspending, now it's necessary look the differences between control and treatment groups according to the size of the companies."
   ]
  },
  {
   "cell_type": "markdown",
   "id": "e91cd444",
   "metadata": {},
   "source": [
    "I'm going to add a column, called **overspending**, with booleans as entries, where True indicates if a company has and overspend greater than 1% of its budget, and False if there is not such overspend."
   ]
  },
  {
   "cell_type": "code",
   "execution_count": 45,
   "id": "7c6a8aff",
   "metadata": {},
   "outputs": [],
   "source": [
    "def overspend_tag(data):\n",
    "    return [True if data.campaign_spend[i] > data.campaign_budget[i]*1.01 else False \n",
    "            for i in range(data.shape[0])]"
   ]
  },
  {
   "cell_type": "code",
   "execution_count": 55,
   "id": "58328849",
   "metadata": {
    "scrolled": true
   },
   "outputs": [
    {
     "name": "stderr",
     "output_type": "stream",
     "text": [
      "/tmp/ipykernel_1049044/1141644292.py:1: SettingWithCopyWarning: \n",
      "A value is trying to be set on a copy of a slice from a DataFrame.\n",
      "Try using .loc[row_indexer,col_indexer] = value instead\n",
      "\n",
      "See the caveats in the documentation: https://pandas.pydata.org/pandas-docs/stable/user_guide/indexing.html#returning-a-view-versus-a-copy\n",
      "  control['overspending'] = overspend_tag(control)\n"
     ]
    }
   ],
   "source": [
    "control['overspending'] = overspend_tag(control)"
   ]
  },
  {
   "cell_type": "code",
   "execution_count": 74,
   "id": "af513d9d",
   "metadata": {},
   "outputs": [],
   "source": [
    "treatment['overspending'] = overspend_tag(treatment)"
   ]
  },
  {
   "cell_type": "code",
   "execution_count": 57,
   "id": "5de3c578",
   "metadata": {},
   "outputs": [
    {
     "data": {
      "text/html": [
       "<div>\n",
       "<style scoped>\n",
       "    .dataframe tbody tr th:only-of-type {\n",
       "        vertical-align: middle;\n",
       "    }\n",
       "\n",
       "    .dataframe tbody tr th {\n",
       "        vertical-align: top;\n",
       "    }\n",
       "\n",
       "    .dataframe thead th {\n",
       "        text-align: right;\n",
       "    }\n",
       "</style>\n",
       "<table border=\"1\" class=\"dataframe\">\n",
       "  <thead>\n",
       "    <tr style=\"text-align: right;\">\n",
       "      <th></th>\n",
       "      <th>treatment</th>\n",
       "      <th>company_size</th>\n",
       "      <th>campaign_spend</th>\n",
       "      <th>campaign_budget</th>\n",
       "      <th>overspending</th>\n",
       "    </tr>\n",
       "  </thead>\n",
       "  <tbody>\n",
       "    <tr>\n",
       "      <th>0</th>\n",
       "      <td>False</td>\n",
       "      <td>small</td>\n",
       "      <td>10.4477</td>\n",
       "      <td>3.9035</td>\n",
       "      <td>True</td>\n",
       "    </tr>\n",
       "    <tr>\n",
       "      <th>1</th>\n",
       "      <td>False</td>\n",
       "      <td>medium</td>\n",
       "      <td>3.7776</td>\n",
       "      <td>1.9872</td>\n",
       "      <td>True</td>\n",
       "    </tr>\n",
       "    <tr>\n",
       "      <th>2</th>\n",
       "      <td>False</td>\n",
       "      <td>medium</td>\n",
       "      <td>46.1880</td>\n",
       "      <td>55.4523</td>\n",
       "      <td>False</td>\n",
       "    </tr>\n",
       "    <tr>\n",
       "      <th>3</th>\n",
       "      <td>False</td>\n",
       "      <td>small</td>\n",
       "      <td>6.6271</td>\n",
       "      <td>6.5136</td>\n",
       "      <td>True</td>\n",
       "    </tr>\n",
       "    <tr>\n",
       "      <th>4</th>\n",
       "      <td>False</td>\n",
       "      <td>small</td>\n",
       "      <td>92.3405</td>\n",
       "      <td>83.1018</td>\n",
       "      <td>True</td>\n",
       "    </tr>\n",
       "  </tbody>\n",
       "</table>\n",
       "</div>"
      ],
      "text/plain": [
       "   treatment company_size  campaign_spend  campaign_budget  overspending\n",
       "0      False        small         10.4477           3.9035          True\n",
       "1      False       medium          3.7776           1.9872          True\n",
       "2      False       medium         46.1880          55.4523         False\n",
       "3      False        small          6.6271           6.5136          True\n",
       "4      False        small         92.3405          83.1018          True"
      ]
     },
     "execution_count": 57,
     "metadata": {},
     "output_type": "execute_result"
    }
   ],
   "source": [
    "control.head()"
   ]
  },
  {
   "cell_type": "code",
   "execution_count": 64,
   "id": "91f42f4d",
   "metadata": {},
   "outputs": [
    {
     "data": {
      "text/plain": [
       "3389"
      ]
     },
     "execution_count": 64,
     "metadata": {},
     "output_type": "execute_result"
    }
   ],
   "source": [
    "control[np.logical_and(control.company_size == 'small',control.overspending == True)].shape[0]"
   ]
  },
  {
   "cell_type": "code",
   "execution_count": 71,
   "id": "4ecef5bd",
   "metadata": {},
   "outputs": [],
   "source": [
    "def overspending_by_size(data):\n",
    "    sizes = ['small', 'medium', 'large'] \n",
    "    return {s:\n",
    "            control[np.logical_and(data.company_size == s,\n",
    "                                   data.overspending == True)].shape[0] \n",
    "    for s in sizes}"
   ]
  },
  {
   "cell_type": "code",
   "execution_count": 73,
   "id": "af06699f",
   "metadata": {},
   "outputs": [
    {
     "data": {
      "text/plain": [
       "{'small': 3389, 'medium': 452, 'large': 1875}"
      ]
     },
     "execution_count": 73,
     "metadata": {},
     "output_type": "execute_result"
    }
   ],
   "source": [
    "overspending_by_size(control)"
   ]
  },
  {
   "cell_type": "code",
   "execution_count": 75,
   "id": "b7aa41e5",
   "metadata": {},
   "outputs": [
    {
     "name": "stderr",
     "output_type": "stream",
     "text": [
      "/tmp/ipykernel_1049044/271622678.py:4: UserWarning: Boolean Series key will be reindexed to match DataFrame index.\n",
      "  control[np.logical_and(data.company_size == s,\n"
     ]
    },
    {
     "data": {
      "text/plain": [
       "{'small': 3258, 'medium': 414, 'large': 1503}"
      ]
     },
     "execution_count": 75,
     "metadata": {},
     "output_type": "execute_result"
    }
   ],
   "source": [
    "overspending_by_size(treatment)"
   ]
  },
  {
   "cell_type": "code",
   "execution_count": null,
   "id": "6b837452",
   "metadata": {},
   "outputs": [],
   "source": []
  }
 ],
 "metadata": {
  "kernelspec": {
   "display_name": "Python 3 (ipykernel)",
   "language": "python",
   "name": "python3"
  },
  "language_info": {
   "codemirror_mode": {
    "name": "ipython",
    "version": 3
   },
   "file_extension": ".py",
   "mimetype": "text/x-python",
   "name": "python",
   "nbconvert_exporter": "python",
   "pygments_lexer": "ipython3",
   "version": "3.9.12"
  }
 },
 "nbformat": 4,
 "nbformat_minor": 5
}
