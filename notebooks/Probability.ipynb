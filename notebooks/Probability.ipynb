{
 "cells": [
  {
   "cell_type": "markdown",
   "id": "0d0d9ed0",
   "metadata": {},
   "source": [
    "# Dataloop test"
   ]
  },
  {
   "cell_type": "code",
   "execution_count": 1,
   "id": "ec771b9d",
   "metadata": {},
   "outputs": [],
   "source": [
    "import numpy as np\n",
    "import matplotlib.pyplot as plt"
   ]
  },
  {
   "cell_type": "markdown",
   "id": "3c76d413",
   "metadata": {},
   "source": [
    "## Probability "
   ]
  },
  {
   "cell_type": "markdown",
   "id": "ba3bbc26",
   "metadata": {},
   "source": [
    "### Q1. Craps "
   ]
  },
  {
   "cell_type": "markdown",
   "id": "c9705ce2",
   "metadata": {},
   "source": [
    "1. For each number between 2 and 12, what is the probability of rolling the dice so that\n",
    "they sum to that number?"
   ]
  },
  {
   "cell_type": "markdown",
   "id": "43064156",
   "metadata": {},
   "source": [
    "**Answer:** We can make a loop which store the frequency at we get each number and the total number of events (all the combinations of the craps), the probability to get every number will their corresponding frequency divided by the total number of events. It is important have into account that one of the dice are unbalanced and we cannot get 1 or 6."
   ]
  },
  {
   "cell_type": "markdown",
   "id": "1b8d72fa",
   "metadata": {},
   "source": [
    "For this case, I will make a dictionary where the keys are the sum of the craps and the values are the probabilities to get them."
   ]
  },
  {
   "cell_type": "code",
   "execution_count": 2,
   "id": "755d7fbc",
   "metadata": {},
   "outputs": [],
   "source": [
    "def prob():\n",
    "    events = [0 for i in range(11)]\n",
    "    for i in range(1,7):\n",
    "        for j in range(2,6):\n",
    "            events[i+j-2] += 1\n",
    "    total_events = sum(events)\n",
    "    return {i:events[i-2]/total_events for i in range(2,13)}"
   ]
  },
  {
   "cell_type": "code",
   "execution_count": 3,
   "id": "180b0e0b",
   "metadata": {},
   "outputs": [],
   "source": [
    "prob_craps = prob()"
   ]
  },
  {
   "cell_type": "code",
   "execution_count": 4,
   "id": "005caf09",
   "metadata": {},
   "outputs": [
    {
     "data": {
      "text/plain": [
       "{2: 0.0,\n",
       " 3: 0.041666666666666664,\n",
       " 4: 0.08333333333333333,\n",
       " 5: 0.125,\n",
       " 6: 0.16666666666666666,\n",
       " 7: 0.16666666666666666,\n",
       " 8: 0.16666666666666666,\n",
       " 9: 0.125,\n",
       " 10: 0.08333333333333333,\n",
       " 11: 0.041666666666666664,\n",
       " 12: 0.0}"
      ]
     },
     "execution_count": 4,
     "metadata": {},
     "output_type": "execute_result"
    }
   ],
   "source": [
    "prob_craps"
   ]
  },
  {
   "cell_type": "markdown",
   "id": "de692a80",
   "metadata": {},
   "source": [
    "2.a What’s the probability of winning on the very first roll?"
   ]
  },
  {
   "cell_type": "markdown",
   "id": "d94f0d76",
   "metadata": {},
   "source": [
    "**Answer:** The rules say you will win at the first roll if you get 7 or 11, so the probability of wining will be the sum of getting these numbers:"
   ]
  },
  {
   "cell_type": "code",
   "execution_count": 5,
   "id": "914c8ebf",
   "metadata": {},
   "outputs": [
    {
     "data": {
      "text/plain": [
       "0.20833333333333331"
      ]
     },
     "execution_count": 5,
     "metadata": {},
     "output_type": "execute_result"
    }
   ],
   "source": [
    "prob_craps[7]+prob_craps[11]"
   ]
  },
  {
   "cell_type": "markdown",
   "id": "9a3b5f4a",
   "metadata": {},
   "source": [
    "Which is aproximately 21%."
   ]
  },
  {
   "cell_type": "markdown",
   "id": "a3288e75",
   "metadata": {},
   "source": [
    "2.b What’s the probability of losing (“crapping out”) on the very first roll?"
   ]
  },
  {
   "cell_type": "markdown",
   "id": "c6772d9d",
   "metadata": {},
   "source": [
    "**Answer:** If you get 2,3 or 12 you lose, but, as one of the dice is unbalanced, we cannot get 2 or 12, so the probability of lose is equal to the probability of getting 3:"
   ]
  },
  {
   "cell_type": "code",
   "execution_count": 6,
   "id": "b80c1b56",
   "metadata": {},
   "outputs": [
    {
     "data": {
      "text/plain": [
       "0.041666666666666664"
      ]
     },
     "execution_count": 6,
     "metadata": {},
     "output_type": "execute_result"
    }
   ],
   "source": [
    "prob_craps[3]"
   ]
  },
  {
   "cell_type": "markdown",
   "id": "0331197c",
   "metadata": {},
   "source": [
    "Which is almos 4.17%."
   ]
  },
  {
   "cell_type": "markdown",
   "id": "7137d24f",
   "metadata": {},
   "source": [
    "3. Suppose that on the first roll, you do not win or lose, but rather, you get the sum X,\n",
    "which has roll probability p. Given that you have already made it to this point,\n",
    "what’s your chance of winning going forward?"
   ]
  },
  {
   "cell_type": "markdown",
   "id": "e5f343f1",
   "metadata": {},
   "source": [
    "**Answer:** You have a probability _p_, because the rules say if you get _X_ again you win."
   ]
  },
  {
   "cell_type": "markdown",
   "id": "8280a6f7",
   "metadata": {},
   "source": [
    "4. If you play the game of craps with these two dice, you will get one dollar if you\n",
    "win, and lose one dollar if you lose, then what is the expected return for playing the\n",
    "game?"
   ]
  },
  {
   "cell_type": "markdown",
   "id": "ba52cca3",
   "metadata": {},
   "source": [
    "**Answer:** Let's say _x_ is the quantity you win or loss at each roll. To find out what is the expected return for playing, it is necessary to calculate the expected value of _x_ ($E[x]$). At the first roll $E[x]$ is:"
   ]
  },
  {
   "cell_type": "markdown",
   "id": "1f265f9b",
   "metadata": {},
   "source": [
    "$$ E[x] = 1\\times prob(7,11)-1\\times prob(2,3 or 12) = prob(7)+prob(11)-prob(3)$$"
   ]
  },
  {
   "cell_type": "markdown",
   "id": "b736d211",
   "metadata": {},
   "source": [
    "So, this value is:"
   ]
  },
  {
   "cell_type": "code",
   "execution_count": 7,
   "id": "c610fdaa",
   "metadata": {},
   "outputs": [
    {
     "data": {
      "text/plain": [
       "0.16666666666666666"
      ]
     },
     "execution_count": 7,
     "metadata": {},
     "output_type": "execute_result"
    }
   ],
   "source": [
    "prob_craps[7]+prob_craps[11]-prob_craps[3]"
   ]
  },
  {
   "cell_type": "markdown",
   "id": "b6c821a8",
   "metadata": {},
   "source": [
    "If we don't win or lose at the first roll, getting the number _n_ with probability _p_,  the expected return if we going foward is:"
   ]
  },
  {
   "cell_type": "markdown",
   "id": "909f9b73",
   "metadata": {},
   "source": [
    "$$E[x] = 1\\times prob(n) - 1\\times prob(7) = p - prob(7)$$"
   ]
  },
  {
   "cell_type": "markdown",
   "id": "d73db7ad",
   "metadata": {},
   "source": [
    "As 6,7 and 8 are the numbers with the highest probability, if we have n = 6 or 8, $E[x]=0$, if we have a different number, $E[x]<0$. We will have the lowest expected return when we expect to get 5 or 9, obtaining: "
   ]
  },
  {
   "cell_type": "code",
   "execution_count": 8,
   "id": "b3f7830b",
   "metadata": {},
   "outputs": [
    {
     "data": {
      "text/plain": [
       "-0.04166666666666666"
      ]
     },
     "execution_count": 8,
     "metadata": {},
     "output_type": "execute_result"
    }
   ],
   "source": [
    "prob_craps[5]-prob_craps[7]"
   ]
  },
  {
   "cell_type": "markdown",
   "id": "7d94bddb",
   "metadata": {},
   "source": [
    "So, the highest expected return is obtained when we expect to gain at the first roll ($E[x] \\approx 0.167$), and the lowest return is obtained when we expect to gain with 5 or 9 at the second roll ($E[x]\\approx -0.042$)."
   ]
  },
  {
   "cell_type": "markdown",
   "id": "2bccb12a",
   "metadata": {},
   "source": [
    "Thus, as we increase the number of games we'll see the expected return will oscilate between 0.167 y -0.042."
   ]
  },
  {
   "cell_type": "markdown",
   "id": "e2fa0f23",
   "metadata": {},
   "source": [
    "To verify this, I will simulate what happen for different number of games, then calculate the mean an plot it, all this in order to see what will be the expected return."
   ]
  },
  {
   "cell_type": "code",
   "execution_count": 9,
   "id": "2d3dae34",
   "metadata": {},
   "outputs": [],
   "source": [
    "# function that simulates what happend if you neither win nor lose\n",
    "# at the first roll\n",
    "def second_roll(X, money):\n",
    "    craps = np.random.choice(list(prob_craps.keys()),\n",
    "                                     p = list(prob_craps.values()))\n",
    "    if craps == X:\n",
    "        money += 1\n",
    "    elif craps == 7:\n",
    "        money -= 1\n",
    "    else:\n",
    "        money = second_roll(craps, money)\n",
    "    \n",
    "    return money\n",
    "\n",
    "# simulation of the craps grame, aplying the 'second_roll' function\n",
    "def craps_game():\n",
    "    dollars = 0\n",
    "    craps = np.random.choice(list(prob_craps.keys()),\n",
    "                            p = list(prob_craps.values()))\n",
    "    if craps == 7 or craps == 11:\n",
    "        dollars += 1\n",
    "    elif craps == 3:\n",
    "        dollars -= 1\n",
    "    else:\n",
    "        dollars = second_roll(craps, dollars)\n",
    "    return dollars"
   ]
  },
  {
   "cell_type": "code",
   "execution_count": 10,
   "id": "915631dd",
   "metadata": {},
   "outputs": [],
   "source": [
    "# Calculation of the average return after N games\n",
    "def average_return(N):\n",
    "    return np.mean([craps_game() for i in range(N)])"
   ]
  },
  {
   "cell_type": "code",
   "execution_count": 11,
   "id": "e7960766",
   "metadata": {},
   "outputs": [],
   "source": [
    "games_number = list(range(1,10101,100))"
   ]
  },
  {
   "cell_type": "code",
   "execution_count": 12,
   "id": "b734858e",
   "metadata": {},
   "outputs": [],
   "source": [
    "games_return = list(map(average_return, games_number))"
   ]
  },
  {
   "cell_type": "code",
   "execution_count": 13,
   "id": "eae757a2",
   "metadata": {},
   "outputs": [
    {
     "data": {
      "image/png": "[encoded data removed]",
      "text/plain": [
       "<Figure size 432x288 with 1 Axes>"
      ]
     },
     "metadata": {
      "needs_background": "light"
     },
     "output_type": "display_data"
    }
   ],
   "source": [
    "x = list(range(0,110,10))\n",
    "labels = [i*100 for i in x]\n",
    "plt.plot(games_return)\n",
    "plt.axhline(y = prob_craps[7], color = 'r', linestyle = '-')\n",
    "plt.axhline(y = prob_craps[5]-prob_craps[7], color = 'r', linestyle = '-')\n",
    "plt.xticks(x, labels, rotation = 90)\n",
    "plt.show()"
   ]
  },
  {
   "cell_type": "code",
   "execution_count": null,
   "id": "34a42ecf",
   "metadata": {},
   "outputs": [],
   "source": []
  }
 ],
 "metadata": {
  "kernelspec": {
   "display_name": "Python 3 (ipykernel)",
   "language": "python",
   "name": "python3"
  },
  "language_info": {
   "codemirror_mode": {
    "name": "ipython",
    "version": 3
   },
   "file_extension": ".py",
   "mimetype": "text/x-python",
   "name": "python",
   "nbconvert_exporter": "python",
   "pygments_lexer": "ipython3",
   "version": "3.9.12"
  }
 },
 "nbformat": 4,
 "nbformat_minor": 5
}
