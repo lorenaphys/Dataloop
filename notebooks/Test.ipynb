{
 "cells": [
  {
   "cell_type": "markdown",
   "id": "82f043ca",
   "metadata": {},
   "source": [
    "# Dataloop test"
   ]
  },
  {
   "cell_type": "markdown",
   "id": "5308ff59",
   "metadata": {},
   "source": [
    "## Probability "
   ]
  },
  {
   "cell_type": "markdown",
   "id": "98eca127",
   "metadata": {},
   "source": [
    "### Q1. Craps "
   ]
  },
  {
   "cell_type": "markdown",
   "id": "ab8b9f46",
   "metadata": {},
   "source": [
    "1. For each number between 2 and 12, what is the probability of rolling the dice so that\n",
    "they sum to that number?"
   ]
  },
  {
   "cell_type": "markdown",
   "id": "f7e9c83f",
   "metadata": {},
   "source": [
    "**Answer:** We can make a loop which store the frequency at we get each number and the total number of events (all the combinations of the craps), the probability to get every number will their corresponding frequency divided by the total number of events. It is important have into account that the dices are unbalanced and we cannot get 1 or 6."
   ]
  },
  {
   "cell_type": "markdown",
   "id": "eb418fbd",
   "metadata": {},
   "source": [
    "For this case, I will make a dictionary where the keys are the sum of the craps and the values are the probabilities to get them."
   ]
  },
  {
   "cell_type": "code",
   "execution_count": 58,
   "id": "57dfc42a",
   "metadata": {},
   "outputs": [],
   "source": [
    "def prob():\n",
    "    events = [0 for i in range(11)]\n",
    "    for i in range(2,6):\n",
    "        for j in range(2,6):\n",
    "            events[i+j-2] += 1\n",
    "    total_events = sum(events)\n",
    "    return {i:events[i-2]/total_events for i in range(2,13)}"
   ]
  },
  {
   "cell_type": "code",
   "execution_count": 59,
   "id": "856b7a67",
   "metadata": {},
   "outputs": [],
   "source": [
    "prob_craps = prob()"
   ]
  },
  {
   "cell_type": "code",
   "execution_count": 60,
   "id": "2b70fc76",
   "metadata": {},
   "outputs": [
    {
     "data": {
      "text/plain": [
       "{2: 0.0,\n",
       " 3: 0.0,\n",
       " 4: 0.0625,\n",
       " 5: 0.125,\n",
       " 6: 0.1875,\n",
       " 7: 0.25,\n",
       " 8: 0.1875,\n",
       " 9: 0.125,\n",
       " 10: 0.0625,\n",
       " 11: 0.0,\n",
       " 12: 0.0}"
      ]
     },
     "execution_count": 60,
     "metadata": {},
     "output_type": "execute_result"
    }
   ],
   "source": [
    "prob_craps"
   ]
  },
  {
   "cell_type": "markdown",
   "id": "c6bc7187",
   "metadata": {},
   "source": [
    "2.a What’s the probability of winning on the very first roll?"
   ]
  },
  {
   "cell_type": "markdown",
   "id": "4517f2ca",
   "metadata": {},
   "source": [
    "**Answer:** The rules say you will win at the first roll if you get 7 or 11, in this case, the probability of getting 11 is zero, thus we will win at the first roll only if we get 7, which has a probability of 25%."
   ]
  },
  {
   "cell_type": "markdown",
   "id": "9caa821c",
   "metadata": {},
   "source": [
    "2.b What’s the probability of losing (“crapping out”) on the very first roll?"
   ]
  },
  {
   "cell_type": "markdown",
   "id": "42faabaa",
   "metadata": {},
   "source": [
    "If you get 2,3 or 12 you lose, but you cannot get these numbers because the craps are unbalanced, so, the probability of losing at the first roll is zero."
   ]
  },
  {
   "cell_type": "markdown",
   "id": "0c2cad63",
   "metadata": {},
   "source": [
    "3. Suppose that on the first roll, you do not win or lose, but rather, you get the sum X,\n",
    "which has roll probability p. Given that you have already made it to this point,\n",
    "what’s your chance of winning going forward?"
   ]
  },
  {
   "cell_type": "markdown",
   "id": "93a7889c",
   "metadata": {},
   "source": [
    "**Answer:** You have a probability _p_, because the rules say if you get _X_ at the next roll you win."
   ]
  },
  {
   "cell_type": "markdown",
   "id": "af8bd782",
   "metadata": {},
   "source": [
    "4. If you play the game of craps with these two dice, you will get one dollar if you\n",
    "win, and lose one dollar if you lose, then what is the expected return for playing the\n",
    "game?"
   ]
  },
  {
   "cell_type": "code",
   "execution_count": 40,
   "id": "25b6876c",
   "metadata": {},
   "outputs": [],
   "source": [
    "import numpy as np"
   ]
  },
  {
   "cell_type": "code",
   "execution_count": null,
   "id": "eb9793d0",
   "metadata": {},
   "outputs": [],
   "source": [
    "def second_roll(X):\n",
    "    win = True\n",
    "    dollars = 0\n",
    "    craps = np.random.choice(list(prob_craps.keys()),\n",
    "                                     p = list(prob_craps.values()))\n",
    "    if craps == X:\n",
    "        return win = True, dollars += 1\n",
    "    elif craps == 7:\n",
    "        return win = False, dollars -= 1\n",
    "    else:\n",
    "        second_roll(craps)\n",
    "\n",
    "def craps_game(N):\n",
    "\n",
    "    for i in range(N):\n",
    "        win = True\n",
    "        craps = np.random.choice(list(prob_craps.keys()),\n",
    "                                     p = list(prob_craps.values()))\n",
    "        while win == True:\n",
    "                if craps == 7:\n",
    "                    win = True \n",
    "                    dollars += 1\n",
    "                else:\n",
    "                    second_roll(craps)"
   ]
  }
 ],
 "metadata": {
  "kernelspec": {
   "display_name": "Python 3 (ipykernel)",
   "language": "python",
   "name": "python3"
  },
  "language_info": {
   "codemirror_mode": {
    "name": "ipython",
    "version": 3
   },
   "file_extension": ".py",
   "mimetype": "text/x-python",
   "name": "python",
   "nbconvert_exporter": "python",
   "pygments_lexer": "ipython3",
   "version": "3.9.12"
  }
 },
 "nbformat": 4,
 "nbformat_minor": 5
}
