{
 "cells": [
  {
   "cell_type": "markdown",
   "id": "0e30edd7",
   "metadata": {},
   "source": [
    "# Dataloop test"
   ]
  },
  {
   "cell_type": "markdown",
   "id": "e39e148d",
   "metadata": {},
   "source": [
    "## Probability "
   ]
  },
  {
   "cell_type": "markdown",
   "id": "e55769fe",
   "metadata": {},
   "source": [
    "### Q1. Craps "
   ]
  },
  {
   "cell_type": "markdown",
   "id": "c67ad519",
   "metadata": {},
   "source": [
    "1. For each number between 2 and 12, what is the probability of rolling the dice so that\n",
    "they sum to that number?"
   ]
  },
  {
   "cell_type": "markdown",
   "id": "555207dc",
   "metadata": {},
   "source": [
    "**Answer:** We can make a loop which store the frequency at we get each number and the total number of events (all the combinations of the craps), the probability to get every number will their corresponding frequency divided by the total number of events. It is important have into account that one of the dice are unbalanced and we cannot get 1 or 6."
   ]
  },
  {
   "cell_type": "markdown",
   "id": "6bb92237",
   "metadata": {},
   "source": [
    "For this case, I will make a dictionary where the keys are the sum of the craps and the values are the probabilities to get them."
   ]
  },
  {
   "cell_type": "code",
   "execution_count": 164,
   "id": "2cd5a772",
   "metadata": {},
   "outputs": [],
   "source": [
    "def prob():\n",
    "    events = [0 for i in range(11)]\n",
    "    for i in range(1,7):\n",
    "        for j in range(2,6):\n",
    "            events[i+j-2] += 1\n",
    "    total_events = sum(events)\n",
    "    return {i:events[i-2]/total_events for i in range(2,13)}"
   ]
  },
  {
   "cell_type": "code",
   "execution_count": 165,
   "id": "6bba02b3",
   "metadata": {},
   "outputs": [],
   "source": [
    "prob_craps = prob()"
   ]
  },
  {
   "cell_type": "code",
   "execution_count": 166,
   "id": "f6d2cbc8",
   "metadata": {},
   "outputs": [
    {
     "data": {
      "text/plain": [
       "{2: 0.0,\n",
       " 3: 0.041666666666666664,\n",
       " 4: 0.08333333333333333,\n",
       " 5: 0.125,\n",
       " 6: 0.16666666666666666,\n",
       " 7: 0.16666666666666666,\n",
       " 8: 0.16666666666666666,\n",
       " 9: 0.125,\n",
       " 10: 0.08333333333333333,\n",
       " 11: 0.041666666666666664,\n",
       " 12: 0.0}"
      ]
     },
     "execution_count": 166,
     "metadata": {},
     "output_type": "execute_result"
    }
   ],
   "source": [
    "prob_craps"
   ]
  },
  {
   "cell_type": "markdown",
   "id": "44429b57",
   "metadata": {},
   "source": [
    "2.a What’s the probability of winning on the very first roll?"
   ]
  },
  {
   "cell_type": "markdown",
   "id": "1eb13aa2",
   "metadata": {},
   "source": [
    "**Answer:** The rules say you will win at the first roll if you get 7 or 11, so the probability of wining will be the sum of getting these numbers:"
   ]
  },
  {
   "cell_type": "code",
   "execution_count": 168,
   "id": "ef1f9c58",
   "metadata": {},
   "outputs": [
    {
     "data": {
      "text/plain": [
       "0.20833333333333331"
      ]
     },
     "execution_count": 168,
     "metadata": {},
     "output_type": "execute_result"
    }
   ],
   "source": [
    "prob_craps[7]+prob_craps[11]"
   ]
  },
  {
   "cell_type": "markdown",
   "id": "664cfd4b",
   "metadata": {},
   "source": [
    "Which is aproximately 21%."
   ]
  },
  {
   "cell_type": "markdown",
   "id": "8f335ddf",
   "metadata": {},
   "source": [
    "2.b What’s the probability of losing (“crapping out”) on the very first roll?"
   ]
  },
  {
   "cell_type": "markdown",
   "id": "828e8685",
   "metadata": {},
   "source": [
    "**Answer:** If you get 2,3 or 12 you lose, but, as one of the dice is unbalanced, we cannot get 2 or 12, so the probability of lose is equal to the probability of getting 3:"
   ]
  },
  {
   "cell_type": "code",
   "execution_count": 171,
   "id": "920453f7",
   "metadata": {},
   "outputs": [
    {
     "data": {
      "text/plain": [
       "0.041666666666666664"
      ]
     },
     "execution_count": 171,
     "metadata": {},
     "output_type": "execute_result"
    }
   ],
   "source": [
    "prob_craps[3]"
   ]
  },
  {
   "cell_type": "markdown",
   "id": "fe67219d",
   "metadata": {},
   "source": [
    "Which is almos 4.17%."
   ]
  },
  {
   "cell_type": "markdown",
   "id": "be6f5859",
   "metadata": {},
   "source": [
    "3. Suppose that on the first roll, you do not win or lose, but rather, you get the sum X,\n",
    "which has roll probability p. Given that you have already made it to this point,\n",
    "what’s your chance of winning going forward?"
   ]
  },
  {
   "cell_type": "markdown",
   "id": "8e4ad627",
   "metadata": {},
   "source": [
    "**Answer:** You have a probability _p_, because the rules say if you get _X_ again you win."
   ]
  },
  {
   "cell_type": "markdown",
   "id": "937a3706",
   "metadata": {},
   "source": [
    "4. If you play the game of craps with these two dice, you will get one dollar if you\n",
    "win, and lose one dollar if you lose, then what is the expected return for playing the\n",
    "game?"
   ]
  },
  {
   "cell_type": "markdown",
   "id": "01f9bc8e",
   "metadata": {},
   "source": [
    "**Answer:** Let's say _x_ is the quantity you win or loss at each roll. To find out what is the expected return for playing, it is necessary to calculate the expected value of _x_ ($E[x]$). At the first roll $E[x]$ is:"
   ]
  },
  {
   "cell_type": "markdown",
   "id": "cbb465d1",
   "metadata": {},
   "source": [
    "$$ E[x] = 1\\times prob(7)-1\\times prob(2,3 or 12) = prob(7)-prob(3)$$"
   ]
  },
  {
   "cell_type": "markdown",
   "id": "f9c17969",
   "metadata": {},
   "source": [
    "So, this value is:"
   ]
  },
  {
   "cell_type": "code",
   "execution_count": 172,
   "id": "dcdf6d78",
   "metadata": {},
   "outputs": [
    {
     "data": {
      "text/plain": [
       "0.125"
      ]
     },
     "execution_count": 172,
     "metadata": {},
     "output_type": "execute_result"
    }
   ],
   "source": [
    "prob_craps[7]-prob_craps[3]"
   ]
  },
  {
   "cell_type": "markdown",
   "id": "01558d50",
   "metadata": {},
   "source": [
    "If we don't win or lose at the first roll, getting the number _n_ with probability _p_,  the expected return if we going foward is:"
   ]
  },
  {
   "cell_type": "markdown",
   "id": "1e34f174",
   "metadata": {},
   "source": [
    "$$E[x] = 1\\times prob(n) - 1\\times prob(7) = p - prob(7)$$"
   ]
  },
  {
   "cell_type": "markdown",
   "id": "59a33a60",
   "metadata": {},
   "source": [
    "As 6,7 and 8 are the numbers with the highest probability, if we have n = 6 or 8, $E[x]=0$, if we have a different number, $E[x]<0$. Therefore, if we don't win at the first roll, the expected return is not very good."
   ]
  },
  {
   "cell_type": "code",
   "execution_count": 40,
   "id": "1046c5a4",
   "metadata": {},
   "outputs": [],
   "source": [
    "import numpy as np"
   ]
  },
  {
   "cell_type": "code",
   "execution_count": 135,
   "id": "6224e3c1",
   "metadata": {},
   "outputs": [],
   "source": [
    "def second_roll(X, money):\n",
    "    craps = np.random.choice(list(prob_craps.keys()),\n",
    "                                     p = list(prob_craps.values()))\n",
    "    if craps == X:\n",
    "        money += 1\n",
    "    elif craps == 7:\n",
    "        money -= 1\n",
    "    else:\n",
    "        money = second_roll(craps, money)\n",
    "    \n",
    "    return money\n",
    "\n",
    "def craps_game(N):\n",
    "    dollars = 0\n",
    "    for i in range(N):\n",
    "        #win = True\n",
    "        craps = np.random.choice(list(prob_craps.keys()),\n",
    "                                     p = list(prob_craps.values()))\n",
    "        if craps == 7:\n",
    "            dollars += 1\n",
    "        else:\n",
    "            dollars = second_roll(craps, dollars)\n",
    "    return dollars"
   ]
  },
  {
   "cell_type": "code",
   "execution_count": 150,
   "id": "269445e5",
   "metadata": {
    "scrolled": true
   },
   "outputs": [
    {
     "data": {
      "text/plain": [
       "[1, 2, -2, 22]"
      ]
     },
     "execution_count": 150,
     "metadata": {},
     "output_type": "execute_result"
    }
   ],
   "source": [
    "list(map(craps_game, [1,10,100,1000]))"
   ]
  },
  {
   "cell_type": "code",
   "execution_count": null,
   "id": "b1b90fc2",
   "metadata": {},
   "outputs": [],
   "source": []
  }
 ],
 "metadata": {
  "kernelspec": {
   "display_name": "Python 3 (ipykernel)",
   "language": "python",
   "name": "python3"
  },
  "language_info": {
   "codemirror_mode": {
    "name": "ipython",
    "version": 3
   },
   "file_extension": ".py",
   "mimetype": "text/x-python",
   "name": "python",
   "nbconvert_exporter": "python",
   "pygments_lexer": "ipython3",
   "version": "3.9.12"
  }
 },
 "nbformat": 4,
 "nbformat_minor": 5
}
