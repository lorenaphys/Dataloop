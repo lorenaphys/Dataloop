{
 "cells": [
  {
   "cell_type": "markdown",
   "id": "f00563fd",
   "metadata": {},
   "source": [
    "# Dataloop test"
   ]
  },
  {
   "cell_type": "markdown",
   "id": "d59769ce",
   "metadata": {},
   "source": [
    "## Probability "
   ]
  },
  {
   "cell_type": "markdown",
   "id": "2edd271f",
   "metadata": {},
   "source": [
    "### Q1. Craps "
   ]
  },
  {
   "cell_type": "markdown",
   "id": "4c5d34ac",
   "metadata": {},
   "source": [
    "1. For each number between 2 and 12, what is the probability of rolling the dice so that\n",
    "they sum to that number?"
   ]
  },
  {
   "cell_type": "markdown",
   "id": "4b43ea9c",
   "metadata": {},
   "source": [
    "**Answer:** We can make a loop which store the frequency at we get each number and the total number of events (all the combinations of the craps), the probability to get every number will their corresponding frequency divided by the total number of events. It is important have into account that one of the dices are unbalanced and we cannot get 1 or 6."
   ]
  },
  {
   "cell_type": "markdown",
   "id": "0a93d43f",
   "metadata": {},
   "source": [
    "For this case, I will make a dictionary where the keys are the sum of the craps and the values are the probabilities to get them."
   ]
  },
  {
   "cell_type": "code",
   "execution_count": 164,
   "id": "13355aac",
   "metadata": {},
   "outputs": [],
   "source": [
    "def prob():\n",
    "    events = [0 for i in range(11)]\n",
    "    for i in range(1,7):\n",
    "        for j in range(2,6):\n",
    "            events[i+j-2] += 1\n",
    "    total_events = sum(events)\n",
    "    return {i:events[i-2]/total_events for i in range(2,13)}"
   ]
  },
  {
   "cell_type": "code",
   "execution_count": 165,
   "id": "9dce8b17",
   "metadata": {},
   "outputs": [],
   "source": [
    "prob_craps = prob()"
   ]
  },
  {
   "cell_type": "code",
   "execution_count": 166,
   "id": "c9823631",
   "metadata": {},
   "outputs": [
    {
     "data": {
      "text/plain": [
       "{2: 0.0,\n",
       " 3: 0.041666666666666664,\n",
       " 4: 0.08333333333333333,\n",
       " 5: 0.125,\n",
       " 6: 0.16666666666666666,\n",
       " 7: 0.16666666666666666,\n",
       " 8: 0.16666666666666666,\n",
       " 9: 0.125,\n",
       " 10: 0.08333333333333333,\n",
       " 11: 0.041666666666666664,\n",
       " 12: 0.0}"
      ]
     },
     "execution_count": 166,
     "metadata": {},
     "output_type": "execute_result"
    }
   ],
   "source": [
    "prob_craps"
   ]
  },
  {
   "cell_type": "markdown",
   "id": "340065b9",
   "metadata": {},
   "source": [
    "2.a What’s the probability of winning on the very first roll?"
   ]
  },
  {
   "cell_type": "markdown",
   "id": "ad453343",
   "metadata": {},
   "source": [
    "**Answer:** The rules say you will win at the first roll if you get 7 or 11, so the probability of wining will be the sum of getting these numbers:"
   ]
  },
  {
   "cell_type": "code",
   "execution_count": 168,
   "id": "9552d698",
   "metadata": {},
   "outputs": [
    {
     "data": {
      "text/plain": [
       "0.20833333333333331"
      ]
     },
     "execution_count": 168,
     "metadata": {},
     "output_type": "execute_result"
    }
   ],
   "source": [
    "prob_craps[7]+prob_craps[11]"
   ]
  },
  {
   "cell_type": "markdown",
   "id": "4ef91c48",
   "metadata": {},
   "source": [
    "Which is aproximately 21%."
   ]
  },
  {
   "cell_type": "markdown",
   "id": "90a89706",
   "metadata": {},
   "source": [
    "2.b What’s the probability of losing (“crapping out”) on the very first roll?"
   ]
  },
  {
   "cell_type": "markdown",
   "id": "c1452d10",
   "metadata": {},
   "source": [
    "If you get 2,3 or 12 you lose, but you cannot get these numbers because the craps are unbalanced, so, the probability of losing at the first roll is zero."
   ]
  },
  {
   "cell_type": "markdown",
   "id": "10d96339",
   "metadata": {},
   "source": [
    "3. Suppose that on the first roll, you do not win or lose, but rather, you get the sum X,\n",
    "which has roll probability p. Given that you have already made it to this point,\n",
    "what’s your chance of winning going forward?"
   ]
  },
  {
   "cell_type": "markdown",
   "id": "8797436b",
   "metadata": {},
   "source": [
    "**Answer:** You have a probability _p_, because the rules say if you get _X_ at the next roll you win."
   ]
  },
  {
   "cell_type": "markdown",
   "id": "948bc204",
   "metadata": {},
   "source": [
    "4. If you play the game of craps with these two dice, you will get one dollar if you\n",
    "win, and lose one dollar if you lose, then what is the expected return for playing the\n",
    "game?"
   ]
  },
  {
   "cell_type": "markdown",
   "id": "e0eda01f",
   "metadata": {},
   "source": [
    "The expected value of wining at the first roll is 0.25, but if you get another value, let's say _X_, with a probability _p_, the expected value is:"
   ]
  },
  {
   "cell_type": "markdown",
   "id": "cdaeaa3a",
   "metadata": {},
   "source": [
    "$$ 1\\cdot p - 1\\cdot prob(7) = p - \\frac{1}{4}$$"
   ]
  },
  {
   "cell_type": "markdown",
   "id": "9d6cf78e",
   "metadata": {},
   "source": [
    "As we see before, 7 is the number with the highest probability, so $p < 0.25$ always, thus the expected value is negative."
   ]
  },
  {
   "cell_type": "code",
   "execution_count": 40,
   "id": "216bc657",
   "metadata": {},
   "outputs": [],
   "source": [
    "import numpy as np"
   ]
  },
  {
   "cell_type": "code",
   "execution_count": 135,
   "id": "8a53ca09",
   "metadata": {},
   "outputs": [],
   "source": [
    "def second_roll(X, money):\n",
    "    craps = np.random.choice(list(prob_craps.keys()),\n",
    "                                     p = list(prob_craps.values()))\n",
    "    if craps == X:\n",
    "        money += 1\n",
    "    elif craps == 7:\n",
    "        money -= 1\n",
    "    else:\n",
    "        money = second_roll(craps, money)\n",
    "    \n",
    "    return money\n",
    "\n",
    "def craps_game(N):\n",
    "    dollars = 0\n",
    "    for i in range(N):\n",
    "        #win = True\n",
    "        craps = np.random.choice(list(prob_craps.keys()),\n",
    "                                     p = list(prob_craps.values()))\n",
    "        if craps == 7:\n",
    "            dollars += 1\n",
    "        else:\n",
    "            dollars = second_roll(craps, dollars)\n",
    "    return dollars"
   ]
  },
  {
   "cell_type": "code",
   "execution_count": 150,
   "id": "71a383b4",
   "metadata": {
    "scrolled": true
   },
   "outputs": [
    {
     "data": {
      "text/plain": [
       "[1, 2, -2, 22]"
      ]
     },
     "execution_count": 150,
     "metadata": {},
     "output_type": "execute_result"
    }
   ],
   "source": [
    "list(map(craps_game, [1,10,100,1000]))"
   ]
  },
  {
   "cell_type": "code",
   "execution_count": null,
   "id": "76bdd828",
   "metadata": {},
   "outputs": [],
   "source": []
  }
 ],
 "metadata": {
  "kernelspec": {
   "display_name": "Python 3 (ipykernel)",
   "language": "python",
   "name": "python3"
  },
  "language_info": {
   "codemirror_mode": {
    "name": "ipython",
    "version": 3
   },
   "file_extension": ".py",
   "mimetype": "text/x-python",
   "name": "python",
   "nbconvert_exporter": "python",
   "pygments_lexer": "ipython3",
   "version": "3.9.12"
  }
 },
 "nbformat": 4,
 "nbformat_minor": 5
}
